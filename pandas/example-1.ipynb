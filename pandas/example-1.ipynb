{
 "cells": [
  {
   "cell_type": "code",
   "execution_count": 8,
   "id": "db5f95db",
   "metadata": {},
   "outputs": [
    {
     "data": {
      "text/plain": [
       "[{'Column 1': 1, 'Column 2': 2},\n",
       " {'Column 1': 3, 'Column 2': 4},\n",
       " {'Column 1': 5, 'Column 2': 6}]"
      ]
     },
     "execution_count": 8,
     "metadata": {},
     "output_type": "execute_result"
    }
   ],
   "source": [
    "import json\n",
    "\n",
    "\n",
    "f = open(\"example-1.json\")\n",
    "\n",
    "# print(f)\n",
    "data = json.load(f)\n",
    "\n",
    "data"
   ]
  },
  {
   "cell_type": "code",
   "execution_count": 9,
   "id": "74661775",
   "metadata": {},
   "outputs": [
    {
     "name": "stdout",
     "output_type": "stream",
     "text": [
      "{'Branch': 'Branch A', 'Date': 'January 1', 'Amount': '500.00'}\n",
      "{'Branch': 'Branch B', 'Date': 'January 2', 'Amount': '250.00'}\n",
      "{'Branch': 'Branch A', 'Date': 'January 3', 'Amount': '300.00'}\n"
     ]
    }
   ],
   "source": [
    "import csv\n",
    "\n",
    "with open(\"example-1.csv\", mode=\"r\") as csv_file:\n",
    "    csv_reader = csv.DictReader(csv_file)\n",
    "    \n",
    "    for row in csv_reader:\n",
    "        print(row)\n",
    "\n",
    "\n"
   ]
  },
  {
   "cell_type": "code",
   "execution_count": null,
   "id": "9cb173b4",
   "metadata": {},
   "outputs": [],
   "source": []
  }
 ],
 "metadata": {
  "kernelspec": {
   "display_name": "Python 3 (ipykernel)",
   "language": "python",
   "name": "python3"
  },
  "language_info": {
   "codemirror_mode": {
    "name": "ipython",
    "version": 3
   },
   "file_extension": ".py",
   "mimetype": "text/x-python",
   "name": "python",
   "nbconvert_exporter": "python",
   "pygments_lexer": "ipython3",
   "version": "3.11.4"
  }
 },
 "nbformat": 4,
 "nbformat_minor": 5
}
